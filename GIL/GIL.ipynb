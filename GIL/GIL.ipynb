{
 "cells": [
  {
   "cell_type": "code",
   "execution_count": 1,
   "metadata": {},
   "outputs": [],
   "source": [
    "import threading\n",
    "import multiprocessing\n",
    "from time import sleep"
   ]
  },
  {
   "cell_type": "code",
   "execution_count": 2,
   "metadata": {},
   "outputs": [],
   "source": [
    "def func(step):\n",
    "    sleep(1)\n",
    "    print(f'Step {step} complete!')"
   ]
  },
  {
   "cell_type": "code",
   "execution_count": 3,
   "metadata": {},
   "outputs": [
    {
     "name": "stdout",
     "output_type": "stream",
     "text": [
      "Step 1 complete!\n",
      "Step 2 complete!\n",
      "Step 3 complete!\n",
      "Step 4 complete!\n"
     ]
    }
   ],
   "source": [
    "for step in range(1, 5):\n",
    "    func(step)"
   ]
  },
  {
   "cell_type": "code",
   "execution_count": 4,
   "metadata": {},
   "outputs": [
    {
     "name": "stdout",
     "output_type": "stream",
     "text": [
      "Step 1 complete!\n",
      "Step 2 complete!\n",
      "Step 3 complete!\n",
      "Step 4 complete!\n"
     ]
    }
   ],
   "source": [
    "threads = [threading.Thread(target=func, args=(step,)) for step in range(1, 5)]\n",
    "\n",
    "for thread in threads: thread.start()\n",
    "\n",
    "for thread in threads: thread.join()"
   ]
  },
  {
   "cell_type": "code",
   "execution_count": 5,
   "metadata": {},
   "outputs": [],
   "source": [
    "counter = 0\n",
    "\n",
    "def func(num):\n",
    "    global counter\n",
    "    for _ in range(num):\n",
    "        counter += 1"
   ]
  },
  {
   "cell_type": "code",
   "execution_count": 6,
   "metadata": {},
   "outputs": [
    {
     "name": "stdout",
     "output_type": "stream",
     "text": [
      "4000000\n"
     ]
    }
   ],
   "source": [
    "func(num=4_000_000)\n",
    "print(counter); counter = 0 # reset counter"
   ]
  },
  {
   "cell_type": "code",
   "execution_count": 7,
   "metadata": {},
   "outputs": [
    {
     "name": "stdout",
     "output_type": "stream",
     "text": [
      "4000000\n"
     ]
    }
   ],
   "source": [
    "threads = [threading.Thread(target=func, args=(1_000_000,)) for _ in range(1, 5)]\n",
    "\n",
    "for thread in threads: thread.start()\n",
    "\n",
    "for thread in threads: thread.join()\n",
    "\n",
    "print(counter); counter = 0 # reset counter"
   ]
  },
  {
   "cell_type": "code",
   "execution_count": 8,
   "metadata": {},
   "outputs": [
    {
     "name": "stdout",
     "output_type": "stream",
     "text": [
      "368 ms ± 75.9 ms per loop (mean ± std. dev. of 7 runs, 1 loop each)\n"
     ]
    }
   ],
   "source": [
    "%timeit func(num=4_000_000)"
   ]
  },
  {
   "cell_type": "code",
   "execution_count": 9,
   "metadata": {},
   "outputs": [
    {
     "name": "stdout",
     "output_type": "stream",
     "text": [
      "335 ms ± 43.1 ms per loop (mean ± std. dev. of 7 runs, 1 loop each)\n"
     ]
    }
   ],
   "source": [
    "%%timeit\n",
    "\n",
    "threads = [threading.Thread(target=func, args=(1_000_000,)) for _ in range(1, 5)]\n",
    "\n",
    "for thread in threads: thread.start()\n",
    "\n",
    "for thread in threads: thread.join()"
   ]
  },
  {
   "cell_type": "code",
   "execution_count": 10,
   "metadata": {},
   "outputs": [
    {
     "name": "stdout",
     "output_type": "stream",
     "text": [
      "1001745\n"
     ]
    }
   ],
   "source": [
    "counter = 0\n",
    "\n",
    "def func(num):\n",
    "    global counter\n",
    "    for _ in range(num):\n",
    "        tmp = counter\n",
    "        sleep(0)\n",
    "        counter = tmp + 1\n",
    "\n",
    "threads = [threading.Thread(target=func, args=(1_000_000,)) for _ in range(1, 5)]\n",
    "for thread in threads: thread.start()\n",
    "for thread in threads: thread.join()\n",
    "print(counter); counter = 0 # reset counter"
   ]
  },
  {
   "cell_type": "code",
   "execution_count": 11,
   "metadata": {},
   "outputs": [],
   "source": [
    "import dis\n",
    "import sys"
   ]
  },
  {
   "cell_type": "code",
   "execution_count": 12,
   "metadata": {},
   "outputs": [
    {
     "data": {
      "text/plain": [
       "0.005"
      ]
     },
     "execution_count": 12,
     "metadata": {},
     "output_type": "execute_result"
    }
   ],
   "source": [
    "sys.getswitchinterval()"
   ]
  },
  {
   "cell_type": "code",
   "execution_count": 13,
   "metadata": {},
   "outputs": [
    {
     "name": "stdout",
     "output_type": "stream",
     "text": [
      "  1           0 LOAD_NAME                0 (counter)\n",
      "              2 LOAD_CONST               0 (1)\n",
      "              4 INPLACE_ADD\n",
      "              6 STORE_NAME               0 (counter)\n",
      "              8 LOAD_CONST               1 (None)\n",
      "             10 RETURN_VALUE\n"
     ]
    }
   ],
   "source": [
    "dis.dis('counter += 1')"
   ]
  }
 ],
 "metadata": {
  "kernelspec": {
   "display_name": "Python 3",
   "language": "python",
   "name": "python3"
  },
  "language_info": {
   "codemirror_mode": {
    "name": "ipython",
    "version": 3
   },
   "file_extension": ".py",
   "mimetype": "text/x-python",
   "name": "python",
   "nbconvert_exporter": "python",
   "pygments_lexer": "ipython3",
   "version": "3.10.0"
  },
  "orig_nbformat": 4
 },
 "nbformat": 4,
 "nbformat_minor": 2
}
